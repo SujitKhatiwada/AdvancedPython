{
 "cells": [
  {
   "cell_type": "code",
   "execution_count": 13,
   "metadata": {},
   "outputs": [],
   "source": [
    "#importing pymongo for Db Connection\n",
    "import pymongo"
   ]
  },
  {
   "cell_type": "code",
   "execution_count": 16,
   "metadata": {},
   "outputs": [
    {
     "name": "stdout",
     "output_type": "stream",
     "text": [
      "Connection Successful\n"
     ]
    }
   ],
   "source": [
    "client = pymongo.MongoClient(\"mongodb://127.0.0.1:27017\")\n",
    "print(\"Connection Successful\")"
   ]
  },
  {
   "cell_type": "code",
   "execution_count": 17,
   "metadata": {},
   "outputs": [
    {
     "data": {
      "text/plain": [
       "['Group_H', 'admin', 'config', 'local']"
      ]
     },
     "execution_count": 17,
     "metadata": {},
     "output_type": "execute_result"
    }
   ],
   "source": [
    "client.list_database_names()"
   ]
  },
  {
   "cell_type": "code",
   "execution_count": 19,
   "metadata": {},
   "outputs": [],
   "source": [
    "db_name = \"sample_db\"\n",
    "sample_db = client[db_name]\n",
    "collection_name = \"fruits\"\n",
    "fruits_collection = sample_db[collection_name]"
   ]
  },
  {
   "cell_type": "code",
   "execution_count": 20,
   "metadata": {},
   "outputs": [
    {
     "data": {
      "text/plain": [
       "<pymongo.results.InsertManyResult at 0x2355168d100>"
      ]
     },
     "execution_count": 20,
     "metadata": {},
     "output_type": "execute_result"
    }
   ],
   "source": [
    "# Create Operation using the data provided in ppt\n",
    "fruits =[{\"fruit\": \"Apple\",    \"size\": \"Large\",    \"color\": \"Red\"},\n",
    "               {\"fruit\": \"Mango\",    \"size\": \"Medium\",    \"color\": \"Yellow\"},\n",
    "{\"fruit\": \"Guava\",    \"size\": \"small\",    \"color\": \"Green\"}]\n",
    "\n",
    "fruits_collection.insert_many(fruits)"
   ]
  },
  {
   "cell_type": "code",
   "execution_count": 21,
   "metadata": {},
   "outputs": [],
   "source": [
    "query1 = {'fruit':'Apple'}\n",
    "result = fruits_collection.find_one(query1)"
   ]
  },
  {
   "cell_type": "code",
   "execution_count": 22,
   "metadata": {},
   "outputs": [
    {
     "data": {
      "text/plain": [
       "{'_id': ObjectId('620a9e41a47cb9314e65ff95'),\n",
       " 'fruit': 'Apple',\n",
       " 'size': 'Large',\n",
       " 'color': 'Red'}"
      ]
     },
     "execution_count": 22,
     "metadata": {},
     "output_type": "execute_result"
    }
   ],
   "source": [
    "# Read operation for result\n",
    "result"
   ]
  },
  {
   "cell_type": "code",
   "execution_count": 25,
   "metadata": {},
   "outputs": [
    {
     "data": {
      "text/plain": [
       "{'_id': ObjectId('620a9e41a47cb9314e65ff95'),\n",
       " 'fruit': 'Orange',\n",
       " 'size': 'Large',\n",
       " 'color': 'Red'}"
      ]
     },
     "execution_count": 25,
     "metadata": {},
     "output_type": "execute_result"
    }
   ],
   "source": [
    "# Update data for fruit apple to orange\n",
    "query_old = {\"fruit\":\"Apple\"}\n",
    "query_new = {'$set':{\"fruit\": \"Orange\"}}\n",
    "fruits_collection.update_one(query_old, query_new)\n",
    "\n",
    "#Recheck the Orange item\n",
    "query2 = {'fruit':'Orange'}\n",
    "result2 = fruits_collection.find_one(query2)\n",
    "result2\n"
   ]
  },
  {
   "cell_type": "code",
   "execution_count": 28,
   "metadata": {},
   "outputs": [],
   "source": [
    "# Delete Operation\n",
    "query_del ={\"fruit\":\"Orange\"}\n",
    "retVal = fruits_collection.delete_one(query_del)"
   ]
  },
  {
   "cell_type": "code",
   "execution_count": 29,
   "metadata": {},
   "outputs": [
    {
     "data": {
      "text/plain": [
       "<pymongo.results.DeleteResult at 0x235516990c0>"
      ]
     },
     "execution_count": 29,
     "metadata": {},
     "output_type": "execute_result"
    }
   ],
   "source": [
    "retVal"
   ]
  },
  {
   "cell_type": "code",
   "execution_count": null,
   "metadata": {},
   "outputs": [],
   "source": []
  }
 ],
 "metadata": {
  "kernelspec": {
   "display_name": "Python 3 (ipykernel)",
   "language": "python",
   "name": "python3"
  },
  "language_info": {
   "codemirror_mode": {
    "name": "ipython",
    "version": 3
   },
   "file_extension": ".py",
   "mimetype": "text/x-python",
   "name": "python",
   "nbconvert_exporter": "python",
   "pygments_lexer": "ipython3",
   "version": "3.9.7"
  }
 },
 "nbformat": 4,
 "nbformat_minor": 4
}
